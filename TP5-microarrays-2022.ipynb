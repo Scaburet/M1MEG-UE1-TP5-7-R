{
 "cells": [
  {
   "cell_type": "markdown",
   "metadata": {},
   "source": [
    "# M1 MEG - UE1 \n",
    "# TP Transcriptomique 1 - TP5 - 2022-2023"
   ]
  },
  {
   "cell_type": "markdown",
   "metadata": {},
   "source": [
    "\n",
    "## Analyse de données de puces (MicroArrays)\n",
    "\n",
    "### Adaptation du TP MeV Testis Vs Ovary, sous forme de Jupyter Notebook en R\n",
    "\n",
    "Selon les explications du site https://wiki.bits.vib.be/index.php/Analyze_your_own_microarray_data_in_R/Bioconductor"
   ]
  },
  {
   "cell_type": "markdown",
   "metadata": {},
   "source": [
    "---\n",
    "**Avant toute chose**\n",
    "\n",
    "<mark>Avant de démarrer cette analyse, sauvegardez une copie de ce notebook pour backup. <mark>\n",
    "\n",
    "Vous pouvez aussi faire des copies de ce notebook au fur et à mesure de la progression\n",
    "\n",
    "---\n",
    "\n",
    "__*Rappels sur l'utilisation des notebooks*__\n",
    "\n",
    "- Pour ajouter une nouvelle cellule, cliquez sur l'icône \"+\" dans la barre des menus \n",
    "- Vous pouvez \"cliquer-glisser\" pour bouger une cellule \n",
    "- Vous pouvez choisir le type de cellule dans le petit menu déroulant dans la barre des menus : \n",
    "    - 'Code' pour entrer des lignes de commandes à executer \n",
    "    - 'Markdown cells' pour ajouter simplement du texte, formatable avec quelques signes \n",
    "- Pour executer une cellule 'Code', pressez SHIFT+ENTER ou cliquez sur l'icône \"play\" \n",
    "- Pour afficher une cellule 'Markdown', pressez SHIFT+ENTER ou cliquez sur l'icône \"play\" \n",
    "- Pour modifier une cellule 'Markdown', double-cliquez dessus\n",
    "\n",
    "---"
   ]
  },
  {
   "cell_type": "markdown",
   "metadata": {},
   "source": [
    "## I - Préparation de l'espace de travail\n",
    "\n",
    "Ceci est un jupyter notebook en R, ce qui signifie que les commandes seront des commandes R directement interprétables par Plasma. \n",
    "Comme pour tout projet en R, nous devons d'abord choisir le répertoire de travail. Par défaut, ce sera celui de l'environnement déployé lors de l'ouverture du TP.\n",
    "Puis nous devons indiquer à R les paquets à charger qui seront nécessaires pour l'analyse. \n"
   ]
  },
  {
   "cell_type": "code",
   "execution_count": null,
   "metadata": {},
   "outputs": [],
   "source": [
    "# Le répertoire de travail est d'office attribué au répertoire de l'environnement par Jupyter Hub.\n",
    "# La commande suivante n'a donc pas besoin d'être exécutée.\n",
    "# setwd(\"~/m1meg-ue1-tp5-r/\")"
   ]
  },
  {
   "cell_type": "code",
   "execution_count": null,
   "metadata": {},
   "outputs": [],
   "source": [
    "## Cellule de Code n°1 ##\n",
    "\n",
    "# Chargement des packages dans l'environnement présent.\n",
    "# Vous allez voir un grand nombre de lignes en rose s'afficher, c'est normal !\n",
    "\n",
    "library(Matrix)\n",
    "library(lattice)\n",
    "library(fdrtool)\n",
    "library(rpart)\n",
    "library(Biobase)\n",
    "library(Biostrings)\n",
    "library(mouse4302cdf)\n",
    "library(ggplot2)\n",
    "library(limma)\n",
    "library(affy)\n",
    "library(affyPLM)\n",
    "library(simpleaffy)\n",
    "library(genefilter)"
   ]
  },
  {
   "cell_type": "markdown",
   "metadata": {},
   "source": [
    "Nous pouvons vérifier ces éléments avec les commandes suivantes : "
   ]
  },
  {
   "cell_type": "code",
   "execution_count": null,
   "metadata": {},
   "outputs": [],
   "source": [
    "## Cellule de Code n°2 ##\n",
    "\n",
    "getwd()\n",
    "sessionInfo()"
   ]
  },
  {
   "cell_type": "markdown",
   "metadata": {},
   "source": [
    "---\n",
    "## II - Analyse des puces \n",
    "\n",
    "Nous allons analyser un ensemble de données d’expression, obtenues sur puces d’expression de type Affymetrix. Il s’agit d’une portion de la série **GSE12989**, accessible par une des deux bases de données d’expression génique (“repository”) : Gene Expression Omnibus (GEO) http://www.ncbi.nlm.nih.gov/geo/  \n",
    "Sur GEO, un ensemble d'échantillons composent une **Série**, avec un identifiant commençant par GSE.\n",
    "\n",
    "Ouvrez le lien https://www.ncbi.nlm.nih.gov/geo/query/acc.cgi?acc=GSE12989\n",
    "\n",
    "La description de la série indique :\n",
    "\n",
    "Status \t\t\tPublic on Jun 24, 2009\n",
    "Title \t\t\tFoxl2 functions throughout mouse ovary development\n",
    "Organism \t\tMus musculus\n",
    "Experiment type \tExpression profiling by array\n",
    "Summary \t\tThis SuperSeries is composed of the following subset Series:\n",
    "- GSE12905: Foxl2 functions in sex determination and histogenesis throughout mouse ovary development, analyzed by Affymetrix arrays\n",
    "- GSE12942: Foxl2 functions in sex determination and histogenesis throughout mouse ovary development, analyzed by Agilent arrays\n",
    "Citation(s) \n",
    "•\tGarcia-Ortiz JE, Pelosi E, Omari S, Nedorezov T et al. Foxl2 functions in sex determination and histogenesis throughout mouse ovary development. BMC Dev Biol 2009 Jun 18;9:36. PMID: 19538736\n",
    "\n",
    "Les puces Affymetrix utilisées dans le subset GSE12905 suivent la plateforme (design de la puce) **GPL1261**, c’est à dire le Affymetrix Mouse Genome 430 2.0 Array (nom commercial de la puce).\n"
   ]
  },
  {
   "cell_type": "markdown",
   "metadata": {},
   "source": [
    "> <mark>**Question 1 :**<mark>  \n",
    "> Combien d’échantillons analysés avec cette puce sont présents dans GEO ? "
   ]
  },
  {
   "cell_type": "markdown",
   "metadata": {},
   "source": [
    "*Double-cliquez ici pour entrer votre réponse ou des notes*  \n",
    "58276 (57745 en 2021, 56619 en 2020)"
   ]
  },
  {
   "cell_type": "markdown",
   "metadata": {},
   "source": [
    "### 1 - Récupération des données"
   ]
  },
  {
   "cell_type": "markdown",
   "metadata": {},
   "source": [
    "Les fichiers CEL qui nous intéressent ont déjà été télécharchés sur Plasmabio. Il suffit donc d'indiquer à R où aller les chercher, et stocker cette information dans la variable *celpath*"
   ]
  },
  {
   "cell_type": "code",
   "execution_count": null,
   "metadata": {},
   "outputs": [],
   "source": [
    "## Cellule de Code n°3 ##\n",
    "\n",
    "# Chemin d'accès aux données sur plasmabio :\n",
    "celpath = \"/srv/data/meg-m1-ue1/DataTP5/\""
   ]
  },
  {
   "cell_type": "markdown",
   "metadata": {},
   "source": [
    "Les puces commerciales Affymetrix étant très répandues, des \"packages\" R dédiés ont été créés pour analyser les données issues de ces puces. C'est le cas des librairies affy, affyPLM et simpleaffy que nous avons chargé plus haut.    \n",
    "Dans ces packages, il existe donc des fonctions spécialement créées pour prendre en charge ces données. Nous allons en utiliser quelques unes. \n",
    "Nous allons maintenant charger les données de ces fichiers dans un objet R approprié : AffyBatch"
   ]
  },
  {
   "cell_type": "code",
   "execution_count": null,
   "metadata": {},
   "outputs": [],
   "source": [
    "## Cellule de Code n°4 ##\n",
    "\n",
    "# Import des données d'intensité de fluorescence brutes des sondes depuis les fichiers CEL, \n",
    "# et ajout des données dans un objet R AffyBatch\n",
    "data = ReadAffy(celfile.path=celpath)"
   ]
  },
  {
   "cell_type": "markdown",
   "metadata": {},
   "source": [
    "Cet objet AffyBatch est accessible via des méthodes contenues dans le package affy."
   ]
  },
  {
   "cell_type": "code",
   "execution_count": null,
   "metadata": {},
   "outputs": [],
   "source": [
    "## Cellule de Code n°5 ##\n",
    "\n",
    "# Récupération de l'annotation des échantillons, qu'on met dans un objet appelé ph (pour phénotype)\n",
    "ph = data@phenoData\n",
    "ph\n",
    "ph@data"
   ]
  },
  {
   "cell_type": "markdown",
   "metadata": {},
   "source": [
    "> <mark>**Question 2 :**<mark>  \n",
    "> Combien d’échantillons de testicules et d’ovaires sont présents ? \n",
    "Combien y a t-il de réplicats par stade de développement ? "
   ]
  },
  {
   "cell_type": "markdown",
   "metadata": {},
   "source": [
    "Remplir votre réponse"
   ]
  },
  {
   "cell_type": "markdown",
   "metadata": {},
   "source": [
    "*Double-cliquez ici pour entrer votre réponse ou des notes. Par la suite, il vous suffira de sélectionner la cellule de la question, puis d'ajouter une cellule markdown avec le \"+\" pour entrez vos réponses*   \n"
   ]
  },
  {
   "cell_type": "code",
   "execution_count": null,
   "metadata": {},
   "outputs": [],
   "source": [
    "## Cellule de Code n°6 ##\n",
    "\n",
    "#Récupération de l'annotation des sondes\n",
    "feat = data@featureData\n"
   ]
  },
  {
   "cell_type": "code",
   "execution_count": null,
   "metadata": {},
   "outputs": [],
   "source": [
    "## Cellule de Code n°7 ##\n",
    "\n",
    "# Récupération du nom du fichier CDF associé aux puces\n",
    "cdfName(data)"
   ]
  },
  {
   "cell_type": "code",
   "execution_count": null,
   "metadata": {},
   "outputs": [],
   "source": [
    "## Cellule de Code n°8 ##\n",
    "\n",
    "# Récupération du nombre de probe sets représentés sur les puces\n",
    "# (La fonction length() compte le nombre d'items dans un vecteur)\n",
    "length(featureNames(data))"
   ]
  },
  {
   "cell_type": "markdown",
   "metadata": {},
   "source": [
    "> <mark>**Question 3 :**<mark>  \n",
    "> Combien de probes sets sont analysés grâce à cette puce ? "
   ]
  },
  {
   "cell_type": "markdown",
   "metadata": {},
   "source": [
    "   "
   ]
  },
  {
   "cell_type": "markdown",
   "metadata": {},
   "source": [
    "### 2 - Contrôle qualité des données de puces\n",
    "\n",
    "Nous commençons par attribuer des noms un peu plus gérables aux échantillons :\n"
   ]
  },
  {
   "cell_type": "code",
   "execution_count": null,
   "metadata": {},
   "outputs": [],
   "source": [
    "## Cellule de Code n°9 ##\n",
    "\n",
    "# Attribution de noms informatifs aux échantillons\n",
    "ph@data[ ,1] = c(\"Testis_E13_1\",\"Testis_E13_2\",\"Testis_E13_3\",\"Testis_P0_1\",\"Testis_P0_2\",\"Testis_P0_3\",\"Ovary_E13_1\",\"Ovary_E13_2\",\"Ovary_E13_3\", \"Ovary_P0_1\", \"Ovary_P0_2\", \"Ovary_P0_3\")\n",
    "ph@data"
   ]
  },
  {
   "cell_type": "markdown",
   "metadata": {},
   "source": [
    "Une première étape importante d'une analyse de données est de se rendre compte de l'aspect global des données, en termes de répartition et de distribution.   \n",
    "Pour celà, nous allons utiliser différents modes de représentation graphique de nos données."
   ]
  },
  {
   "cell_type": "markdown",
   "metadata": {},
   "source": [
    "#### 2.1 - Histogrammes de distribution des données \n",
    "Puis nous allons créer 2 histogrammes de la distribution des données (avec ggplot2).\n",
    "Le premier affichera la répartition des données brutes, le second celle des valeurs passées en log2."
   ]
  },
  {
   "cell_type": "code",
   "execution_count": null,
   "metadata": {},
   "outputs": [],
   "source": [
    "## Cellule de Code n°10 ##\n",
    "\n",
    "# Récupérations des intensités PM (sondes Perfect Match dans les probe sets)\n",
    "pmexp = pm(data)\n",
    "\n",
    "# La méthode dim() fournit le nombre d'éléments dans la matrice, \n",
    "# c'est à dire le nomdre de sondes (lignes) et le nombre d'échantillons (colonnes)\n",
    "dim(pmexp)"
   ]
  },
  {
   "cell_type": "markdown",
   "metadata": {},
   "source": [
    "On crée des vecteurs qui vont nous servir de colonnes dans la dataframe pour les histogrammes\n",
    "  - un pour y mettre les noms des échantillons, appelé **sampleNames**\n",
    "  - un pour y stocker les intensités de fluorescences brutes, applelé **nologs**\n",
    "  - un pour y stocker les intensités passées en log2, appelé **logs**"
   ]
  },
  {
   "cell_type": "code",
   "execution_count": null,
   "metadata": {},
   "outputs": [],
   "source": [
    "## Cellule de Code n°11 ##\n",
    "\n",
    "# initialisation de 3 vecteurs\n",
    "sampleNames = vector()\n",
    "nologs = vector()\n",
    "logs = vector()\n",
    "\n",
    "# remplissage des vecteurs avec les données (la boucle for permet de parcourir les 12 colonnes)\n",
    "for (i in 1:12)\n",
    "{\n",
    "  sampleNames = c(sampleNames,rep(ph@data[i,1],dim(pmexp)[1]))\n",
    "  nologs = c(nologs, pmexp[,i])\n",
    "  logs = c(logs,log2(pmexp[,i]))\n",
    "}\n",
    "\n",
    "# Vérification avec les premières valeurs\n",
    "nologs[1:10]\n",
    "logs[1:10]"
   ]
  },
  {
   "cell_type": "code",
   "execution_count": null,
   "metadata": {},
   "outputs": [],
   "source": [
    "## Cellule de Code n°12 ##\n",
    "\n",
    "# Après avoir rempli les vecteurs, nous combinons sampleNames et nologs ou logs dans 2 dataframes\n",
    "nologData = data.frame(sampleName=sampleNames, nologInt=nologs)\n",
    "logData = data.frame(sampleName=sampleNames, logInt=logs)\n",
    "\n",
    "# Vérification avec les premières valeurs\n",
    "nologData[1:5,]\n",
    "logData[1:5,]\n",
    "\n",
    "# On vérifie le nombre d'éléments dans nos 2 dataframes\n",
    "dim(nologData)\n",
    "dim(logData)\n"
   ]
  },
  {
   "cell_type": "markdown",
   "metadata": {},
   "source": [
    "Maintenant nous pouvons créer les 2 histogrammes: "
   ]
  },
  {
   "cell_type": "code",
   "execution_count": null,
   "metadata": {},
   "outputs": [],
   "source": [
    "## Cellule de Code n°13 ##\n",
    "\n",
    "# Nous décidons de la taille des graphs \n",
    "options(repr.plot.width=18, repr.plot.height= 7)\n",
    "\n",
    "# Histogramme avec les valeurs brutes\n",
    "ggplot(nologData, aes(nologInt, colour = sampleName)) +\n",
    " geom_density() +\n",
    " theme_bw(base_size = 20)\n"
   ]
  },
  {
   "cell_type": "code",
   "execution_count": null,
   "metadata": {},
   "outputs": [],
   "source": [
    "## Cellule de Code n°14 ##\n",
    "\n",
    "# Histogramme avec les valeurs en log2\n",
    "ggplot(logData, aes(logInt, colour = sampleName)) +\n",
    " geom_density() +\n",
    " theme_bw(base_size = 20)"
   ]
  },
  {
   "cell_type": "markdown",
   "metadata": {},
   "source": [
    "> <mark>**Question 4 :**<mark>  \n",
    "> Que pouvez-vous dire de la distribution des données ? Vous semble t-elle logique pour des transcriptomes ?"
   ]
  },
  {
   "cell_type": "markdown",
   "metadata": {},
   "source": [
    "#### 2.2 - Boxplots de distribution des données \n",
    "Nous utilisons les mêmes dataframes pour créer 2 boxplots, \n",
    "de façon à comparer la répartition des données entre échantillons\n"
   ]
  },
  {
   "cell_type": "code",
   "execution_count": null,
   "metadata": {},
   "outputs": [],
   "source": [
    "## Cellule de Code n°15 ##\n",
    "\n",
    "# On choisit une taille de graph moins importante (les valeurs choisies précédemment restent valables tant qu'elles ne sont pas modifiées)\n",
    "options(repr.plot.width=12, repr.plot.height= 7)\n",
    "\n",
    "# Création du boxplot\n",
    "ggplot(nologData,aes(sampleName,nologInt)) + \n",
    " geom_boxplot() +\n",
    " theme_grey(base_size = 18) +\n",
    " theme(axis.text.x = element_text(size = 10)) +\n",
    " ggtitle(\"Données noLog - Avant normalisation\")"
   ]
  },
  {
   "cell_type": "code",
   "execution_count": null,
   "metadata": {},
   "outputs": [],
   "source": [
    "## Cellule de Code n°15 ##\n",
    "\n",
    "# Même graphique pour les valeurs en log2\n",
    "ggplot(logData,aes(sampleName,logInt)) + \n",
    " geom_boxplot() +\n",
    " theme_grey(base_size = 18) +\n",
    " theme(axis.text.x = element_text(size = 10)) +\n",
    " ggtitle(\"Données Log - Avant normalisation\")"
   ]
  },
  {
   "cell_type": "markdown",
   "metadata": {},
   "source": [
    "> <mark>**Question 5 :**<mark>  \n",
    "> Pouvez-vous déterminer si les données ont été normalisées entre puces ou pas ?  \n",
    "> Quel est l'intérêt de la transformation log2 pour ces 2 types de représentation ?    "
   ]
  },
  {
   "cell_type": "markdown",
   "metadata": {},
   "source": [
    "#### 2.3 - MA plots\n",
    "Les plots MA permettent de visualiser la variablité de l'expression des gènes, et sa répartition en fonction du niveau d'expression.   \n",
    "Ici, chaque puce est compré à une *pseudo-puce moyenne*, pour laquelle chaque sonde est associée à la valeur médiane de son intensité dans tous les échantillons.\n",
    "\n",
    "Dans un plot MA, M est figuré en fonction de A :\n",
    "\n",
    "    - M est la différence d'intensité d'une sonde sur la puce testée et l'intensité de cette même sonde sur la pseudo-puce\n",
    "    M = logPMInt_array - logPMInt_pseudoarray\n",
    "    - A est la moyenne des intensités de cette sonde sur la puce testée et sur la pseudo-puce\n",
    "    A = (logPMInt_array + logPMInt_pseudoarray)/2   \n",
    "    \n",
    "(les plots se créent dans des fichier séparés, colonne de gauche)"
   ]
  },
  {
   "cell_type": "code",
   "execution_count": null,
   "metadata": {},
   "outputs": [],
   "source": [
    "## Cellule de Code n°16 ##\n",
    "\n",
    "# Création des MA plots pour chaque échantillon.\n",
    "for (i in 1:12)\n",
    "{\n",
    "  name = paste(\"MAplot\",i,\".jpg\",sep=\"\")\n",
    "  jpeg(name)\n",
    "  MAplot(data,which=i)\n",
    "  dev.off()\n",
    "}\n"
   ]
  },
  {
   "cell_type": "markdown",
   "metadata": {},
   "source": [
    "Ouvrez les MA plots et examinez-les.\n",
    "\n",
    "> <mark>**Question 6 :**<mark>  \n",
    "> Que pouvez-vous constater ? Pensez-vous qu'il faille normaliser les donnéees ?"
   ]
  },
  {
   "cell_type": "markdown",
   "metadata": {},
   "source": [
    "### 3 - Normalisation des données\n",
    "Comme indiqué en cours, la méthode RMA est la méthode standard pour analyser des données de microarray.   \n",
    "\n",
    "RMA est une des rares méthodes de normalisation qui utilise seulement les sondes PM.  \n",
    "- Correction du bruit de fond, pour corriger la variation spatiale au sein de chaque puce : une intensité corrigée est calculée pour chaque sonde PM de façon à ce que toutes les intensités corrigées soient positives.  \n",
    "- Transformation log pour améliorer la distribution des données : le logarithme en base 2 est calculé pour chaque sonde sur les intensités corrigées du bruit de fond.  \n",
    "La transformation en log2 va permettre que les données soient moins \"tordues\" et suivent une distribution plus normale, et va faire en sorte que les ratios d'up-régulation et de down-régulation soient répartis de façon égale.     \n",
    "- Normalisation par la méthode des quantiles pour corriger les variations entre les puces : égalise la distribution des données entre les échantillons pour les rendre complètement comparables.   \n",
    "- Normalisation des sondes pour corriger les variations au sein des probesets : égalise le comportement des sondes entre les puces, et combine les valeurs normalisées des sondes d'un même probeset en une seule valeur pour le probeset.  \n",
    "\n",
    "La méthode GCRMA est basée sur RMA, avec tous ses aspects positifs.    \n",
    "La différence porte sur la correction du bruit de fond, tous les autres étapes de l'analyse sont identiques.  \n",
    "Pour le bruit de fond, GCRMA corrige l'hybridation non-spécifique, contrairement à RMA qui ignore ce point.  \n",
    "GCRMA prend en compte l'information de séquence des sondes (d'où le \"GC\") pour estimer la susceptibilité de chaque sonde à l'hybridation non-spécifique.  "
   ]
  },
  {
   "cell_type": "markdown",
   "metadata": {},
   "source": [
    "*Normalement, nous utiliserions la méthode gcrma directement dans R, grâce à cette commande :   \n",
    "library(\"gcrma\")  \n",
    "data.gcrma = gcrma(data)*\n",
    "\n",
    "*Pour des raisons techniques en cours de résolution, cela ne marche pas actuellement sur Plasma.*\n",
    "\n",
    "*Nous allons donc charger directement le résultat de la normalisation pour la suite de l'analyse*\n"
   ]
  },
  {
   "cell_type": "code",
   "execution_count": null,
   "metadata": {},
   "outputs": [],
   "source": [
    "## Cellule de Code n°17 ##\n",
    "\n",
    "# Chargement de la library, nécessaire pour la suite\n",
    "# library(\"gcrma\")\n",
    "\n",
    "# Chargement de l'objet \"data_gcrma.RData\", pour le réintégrer dans la procédure d'analyse\n",
    "load(\"data_gcrma.RData\")"
   ]
  },
  {
   "cell_type": "markdown",
   "metadata": {},
   "source": [
    "   "
   ]
  },
  {
   "cell_type": "markdown",
   "metadata": {},
   "source": [
    "#### 3.1 - Effet de la normalisation GCRMA : box-plots\n",
    "\n",
    "Nous allons maintenant vérifier l'effet de la normalisation, avec un boxplot des données normalisées."
   ]
  },
  {
   "cell_type": "code",
   "execution_count": null,
   "metadata": {},
   "outputs": [],
   "source": [
    "## Cellule de Code n°18 ##\n",
    "\n",
    "# Box plots des valeurs normalisées\n",
    "# création d'une data frame avec seulement les valeurs d'expression normalisées\n",
    "normexpr.gcrma = data.frame(exprs(data.gcrma))\n",
    "normexpr.gcrma[1:5,]\n",
    "\n",
    "\n",
    "# initialisation des vecteurs\n",
    "sampleNames = vector()\n",
    "normlogs = vector()\n",
    "\n",
    "# remplissage des vecteurs\n",
    "for (i in 1:12)\n",
    "{\n",
    "    sampleNames = c(sampleNames,rep(ph@data[i,1],dim(data.gcrma)[1]))\n",
    "    normlogs = c(normlogs,normexpr.gcrma[,i])\n",
    "}\n",
    "\n",
    "normlogs[1:10]\n",
    "\n",
    "# création de la dataframe avec les 2 vecteurs\n",
    "normData = data.frame(sampleName=sampleNames, norm_logInt=normlogs)\n",
    "normData[1:5,]\n",
    "\n",
    "# création des graphs\n",
    "ggplot(normData,aes(sampleName,norm_logInt)) + \n",
    " geom_boxplot() +\n",
    " theme_grey(base_size = 18) +\n",
    " theme(axis.text.x = element_text(size = 10)) +\n",
    " ggtitle(\"Données Log - Après normalisation\")\n"
   ]
  },
  {
   "cell_type": "markdown",
   "metadata": {},
   "source": [
    "> <mark>**Question 7 :**<mark>\n",
    "Que pouvez-vous constater ? Pensez-vous que la normalisation entre échantillons a fonctionné ?"
   ]
  },
  {
   "cell_type": "markdown",
   "metadata": {},
   "source": [
    "   "
   ]
  },
  {
   "cell_type": "markdown",
   "metadata": {},
   "source": [
    "#### 3.2 - Effet de la normalisation GCRMA : MA plots\n",
    "\n",
    "Pour voir ce que la normalisation a fait aux données de chaque échantillon, nous allons refaire les MA plots."
   ]
  },
  {
   "cell_type": "code",
   "execution_count": null,
   "metadata": {},
   "outputs": [],
   "source": [
    "## Cellule de Code n°19 ##\n",
    "# MAplots des données normalisées \n",
    "\n",
    "for (i in 1:12)\n",
    "{\n",
    "  name = paste(\"MAplot-normData\",i,\".jpg\",sep=\"\")\n",
    "  jpeg(name)\n",
    "  MAplot(data.gcrma,which=i)\n",
    "  dev.off()\n",
    "}\n"
   ]
  },
  {
   "cell_type": "markdown",
   "metadata": {},
   "source": [
    "> <mark>**Question 8 :**<mark>\n",
    "Qu'en pensez-vous ?"
   ]
  },
  {
   "cell_type": "markdown",
   "metadata": {},
   "source": [
    "   "
   ]
  },
  {
   "cell_type": "markdown",
   "metadata": {},
   "source": [
    "### 4 - Groupement des échantillons : PCA\n",
    "\n",
    "Pour voir si les échantillons se regroupent de façon cohérente après normalisation, nous allons tenter une analyse PCA (Principal Componant Analysis).  \n",
    "Cette analyse vous sera expliquée plus en détail lors du TP PCA de l'UE5.  "
   ]
  },
  {
   "cell_type": "code",
   "execution_count": null,
   "metadata": {},
   "outputs": [],
   "source": [
    "## Cellule de Code n°20 ##\n",
    "\n",
    "# Nous utilisons la méthode prcomp() pour lire la matrice de données issues de la normalisation (i.e normexpr.gcrma)\n",
    "# (Plus d'explications là : https://www.youtube.com/watch?v=0Jp4gsfOLMs)\n",
    "\n",
    "data.PCA = prcomp(t(normexpr.gcrma),scale.=FALSE)\n",
    "\n",
    "# la part de la variation expliquée par chaque axe est le carré de sdev (standard deviation), un des éléments fournis par la fonction prcomp().\n",
    "pca.var = data.PCA$sdev^2\n",
    "# et on l'exprime en % du total :\n",
    "pca.var.per = round(pca.var/sum(pca.var)*100, 1)\n",
    "\n",
    "\n",
    "# On peut maintenant afficher la PCA avec ggplot2, qui permet de générer un plot avec les infos calculées :\n",
    "# formatage des données comme ggplot2 les aime : une dataframe avec les coordonnées de chaque échantillon\n",
    "pca.datagg = data.frame(Sample = ph@data[ ,1],\n",
    "                        X = data.PCA$x[,1],\n",
    "                        Y = data.PCA$x[,2])\n",
    "\n",
    "\n",
    "# PCA plot selon les 2premiers axes avec ggplot2, les différents éléments indiqués permettent de jouer sur l'apparence du plot\n",
    "ggplot(data = pca.datagg, aes (x=X, y=Y, label = Sample, colour = Sample)) +\n",
    "  xlab(paste (\"PC1 - \", pca.var.per[1], \" %\", sep = \"\")) +\n",
    "  ylab(paste (\"PC2 - \", pca.var.per[2], \" %\", sep = \"\")) +\n",
    "  geom_text(size = 5, nudge_y = -8) +\n",
    "  geom_point(size=4) +\n",
    "  theme_classic() +\n",
    "  ggtitle(\"Données normalisées avec GCRMA, plot PCA\") +\n",
    "  theme(text=element_text(size=20)) \n"
   ]
  },
  {
   "cell_type": "markdown",
   "metadata": {},
   "source": [
    "> <mark>**Question 9 :**<mark>  \n",
    "> Que pensez-vous de la répartition des réplicats ?   \n",
    "> D'après vous, à quel paramètre biologique est dûe la variation présentée sur le 1er axe ?   \n",
    "> Sur le 2ème ?"
   ]
  },
  {
   "cell_type": "markdown",
   "metadata": {},
   "source": [
    "####   \n",
    "\n",
    "### 5 - Identification des gènes DE (Différentiellement Exprimés)\n",
    "\n",
    "Nous allons maintenant identifier les gènes dont l'expression varie entre les conditions.   \n",
    "Nous allons d'abord effectuer une comparaison simple entre 2 groupes, ici le sexe gonadique.  \n",
    "\n"
   ]
  },
  {
   "cell_type": "markdown",
   "metadata": {},
   "source": [
    "#### 5.1 - Comparaison simple entre 2 groupes   \n",
    "\n",
    "La méthode utilisée ici est la méthode limma, qui permet d'identifier les gènes différentiellement exprimés au moyen de régression linéaire et de modèle Bayésien.  \n",
    "Nous attribuons à chaque échantillon sa valeur selon le critère choisi (\"Testis\" ou \"Ovary\"), puis nous indiquons à R que c'est cet élément qui va nous servir de facteur de comparaison.  \n",
    "Puis une matrice de contraste est créée pour comparer les 2 groupes.\n"
   ]
  },
  {
   "cell_type": "code",
   "execution_count": null,
   "metadata": {},
   "outputs": [],
   "source": [
    "## Cellule de Code n°21 ##\n",
    "\n",
    "# Ajout d'une colonne à la dataframe data pour caractériser les échantillons\n",
    "ph@data[ ,2] = c(\"Testis\",\"Testis\",\"Testis\",\"Testis\",\"Testis\",\"Testis\", \"Ovary\", \"Ovary\", \"Ovary\", \"Ovary\", \"Ovary\", \"Ovary\")\n",
    "colnames(ph@data)[2]=\"SexGonad\"\n",
    "\n",
    "# On vérifie que le facteur a été correctement attribué\n",
    "ph@data"
   ]
  },
  {
   "cell_type": "code",
   "execution_count": null,
   "metadata": {},
   "outputs": [],
   "source": [
    "## Cellule de Code n°22 ##\n",
    "\n",
    "# On forme les 2 groupes\n",
    "groups = ph@data$SexGonad\n",
    "\n",
    "# On utilise ces groupes pour indiquer le facteur de classement, ainsi que les niveaux nécessaires (ici seulement 2 niveaux)\n",
    "f = factor(groups,levels=c(\"Testis\",\"Ovary\"))\n",
    "f"
   ]
  },
  {
   "cell_type": "code",
   "execution_count": null,
   "metadata": {},
   "outputs": [],
   "source": [
    "## Cellule de Code n°23 ##\n",
    "\n",
    "# Création de la matrice de contraste, qui permet de comparer les groupes selon ce facteur\n",
    "design = model.matrix(~0 + f)\n",
    "colnames(design) = c(\"Testis\",\"Ovary\")\n",
    "\n",
    "data.fit = lmFit(data.gcrma,design)\n",
    "\n",
    "# montre les 10 premières valeurs dans les 2 groupes, i.e. les valeurs d'expression moyennes des 10 premiers gènes\n",
    "data.fit$coefficients[1:10,]\n",
    "\n",
    "contrast.matrix = makeContrasts(Ovary-Testis,levels=design)\n",
    "data.fit.con = contrasts.fit(data.fit,contrast.matrix)\n",
    "data.fit.eb = eBayes(data.fit.con)"
   ]
  },
  {
   "cell_type": "markdown",
   "metadata": {},
   "source": [
    "On affiche ensuite les résultats pour les 10 gènes les plus significativement différents :"
   ]
  },
  {
   "cell_type": "code",
   "execution_count": null,
   "metadata": {},
   "outputs": [],
   "source": [
    "## Cellule de Code n°24 ##\n",
    "\n",
    "# indique le noms des colonnes dans la matrice de résultats\n",
    "names(data.fit.eb)\n",
    "\n",
    "# montre les p-values associées au test pour les 10 premiers gènes\n",
    "data.fit.eb$p.value[1:10,]"
   ]
  },
  {
   "cell_type": "markdown",
   "metadata": {},
   "source": [
    "### 5.2 - Volcano plot   \n",
    "\n",
    "Plutôt que de regarder chaque p-value individuelle, on peut visualiser l'ensemble des p-values obtenues avec un **Volcano Plot**  \n",
    "(se crée aussi dans un fichier séparé, colonne de gauche)"
   ]
  },
  {
   "cell_type": "code",
   "execution_count": null,
   "metadata": {},
   "outputs": [],
   "source": [
    "## Cellule de Code n°25 ##\n",
    "\n",
    "# Volcano plot\n",
    "name = \"Volcano1.jpg\"\n",
    "jpeg(name)\n",
    "volcanoplot(data.fit.eb,coef=1,highlight=50, style = \"p-value\", xlab = \"log2 Fold Change\", ylab = \"-log10 p\", names = NULL, hl.col = \"blue\")\n",
    "dev.off()\n"
   ]
  },
  {
   "cell_type": "markdown",
   "metadata": {},
   "source": [
    "><mark>**Question 10 :**<mark>  \n",
    ">    Pensez-vous que les p-values soient interprétables directement ? Quelle étape importante doit d'abord être effectuée ?"
   ]
  },
  {
   "cell_type": "markdown",
   "metadata": {},
   "source": [
    "   "
   ]
  },
  {
   "cell_type": "markdown",
   "metadata": {},
   "source": [
    "### 5.3 - Correction des p-values pour les tests multiples\n",
    "\n",
    "La fonction topTable() renvoie une table avec les gènes ordonnés selon le critère de p-value.  \n",
    "De plus, la fonction topTable() va ajuster la p-value obtenue, selon la methode choisie avec l'argument adjust.method. Ici, cet ajustement est effectué en utilisant la méthode de Benjamini and Hochberg, la plus utilisée pour analyser les transcriptomes sur puces. "
   ]
  },
  {
   "cell_type": "code",
   "execution_count": null,
   "metadata": {},
   "outputs": [],
   "source": [
    "## Cellule de Code n°26 ##\n",
    "\n",
    "# Sélection des 5000 gènes les plus différentiellement exprimés, rangés par ordre de p-value croissante\n",
    "options(digits=2)\n",
    "tab = topTable(data.fit.eb,coef=1,number=5000,adjust.method=\"BH\")\n",
    "\n",
    "# on affiche les 10 premier gènes, 10 gènes pris plus loin dans le tableau et les 10 derniers gènes de la liste\n",
    "tab[1:10,]\n",
    "tab[300:310,]\n",
    "tab[4990:5000,]\n",
    "\n",
    "# la colonne B indique le log odds scores, \n",
    "# c'est à dire le logarithme de la vraisemblance de l'hypothèse \" ce gène montre une expression différentielle\" par rapport à l'hypothèse nulle\n",
    "# (ratio des vraisemblances, transformée en log).\n",
    "# Souvenez-vous des cours et TP sur la méthode des lod-scores en génétique humaine de L3 !)\n"
   ]
  },
  {
   "cell_type": "markdown",
   "metadata": {},
   "source": [
    "On peut se servir de la même fonction topTable() pour sélectionner les gènes selon des seuils, par exemple de p-value ajustée."
   ]
  },
  {
   "cell_type": "code",
   "execution_count": null,
   "metadata": {},
   "outputs": [],
   "source": [
    "## Cellule de Code n°27 ##\n",
    "\n",
    "# Sélection des gènes selon la adjusted p-value, sous un certain seuil\n",
    "\n",
    "topgenesAdjP = tab[tab[, \"adj.P.Val\"] < 0.001, ]\n",
    "\n",
    "# nombre de gènes correspondant au critère :\n",
    "dim(topgenesAdjP)[1]\n",
    "\n",
    "topgenesAdjP[1:10,]\n",
    "\n"
   ]
  },
  {
   "cell_type": "markdown",
   "metadata": {},
   "source": [
    "><mark>**Question 11 :**<mark>  \n",
    ">    Indiquez le nombre de gènes qui sont en dessous des seuils de p-value suivants :  \n",
    ">     adj p < 0.05  \n",
    ">     adj p < 0.01  \n",
    ">     adj p < 0.001  "
   ]
  },
  {
   "cell_type": "code",
   "execution_count": null,
   "metadata": {},
   "outputs": [],
   "source": [
    "## Cellule de Code n°28 ##\n",
    "\n",
    "# pour séparer les gènes up- and down-regulated, on inclut un filtre sur le signe du log fold change, \n",
    "# c'est à dire sur le sens de variation de l'expression (colonne logFC) :\n",
    "  \n",
    "topUpAdjP = topgenesAdjP[topgenesAdjP[, \"logFC\"] > 0, ]\n",
    "dim(topUpAdjP)[1]\n",
    "topDownAdjP = topgenesAdjP[topgenesAdjP[, \"logFC\"] < 0, ]\n",
    "dim(topDownAdjP)[1]\n"
   ]
  },
  {
   "cell_type": "markdown",
   "metadata": {},
   "source": [
    "><mark>**Question 12 :**<mark>  \n",
    ">    Pour chacun des seuils de p-value précédents, indiquez le nombre de gènes up et down-régulés"
   ]
  },
  {
   "cell_type": "markdown",
   "metadata": {},
   "source": [
    "><mark>**Question 13 :**<mark>  \n",
    ">    Est-ce que l'identification de ces gènes DE nous permet de capturer la totalité des variations des transcriptomes dans ces échantillons ?  \n",
    "> Quel autre facteur n'a pas été pris en compte ?  \n",
    "> Pensez-vous qu'une analyse entre 2 groupes en factorisant par ce 2ème facteur suffise ?"
   ]
  },
  {
   "cell_type": "markdown",
   "metadata": {},
   "source": [
    "### 5.4 - Analyse ANOVA\n",
    "En fait nous avons réellement 4 groupes, et il vaut mieux utiliser un test statistique plus fin pour bien voir les différences entre ces 4 groupes.   \n",
    "Une ANOVA à 2 facteurs est le bon choix ici. Cette méthode permet de tester l'effet de chaque facteur ainsi que de leur éventuelle interaction.  \n",
    "Nous commençons par redéfinir des groupes, mais ce coup-ci, en établissant 2 facteurs.   \n",
    " - fs : facteur Sexe Gonadique\n",
    " - fd : facteur de stades de développement  \n",
    "Chacun des 2 facteurs possèdent 2 niveaux (on pourrait donc en spécifier plus si nécessaire, par exemple pour les stades de développement).  \n",
    "On effectue ensuite l'analyse en disant que l'on veut l'effet des 2 facteurs et leur interaction (signe * dans la fonction model.matrix().  \n",
    "\n"
   ]
  },
  {
   "cell_type": "code",
   "execution_count": null,
   "metadata": {},
   "outputs": [],
   "source": [
    "## Cellule de Code n°29 ##\n",
    "\n",
    "ph@data[ ,3] = c(\"Testis\",\"Testis\",\"Testis\",\"Testis\",\"Testis\",\"Testis\", \"Ovary\", \"Ovary\", \"Ovary\", \"Ovary\", \"Ovary\", \"Ovary\")\n",
    "colnames(ph@data)[3]=\"GonadSex\"\n",
    "ph@data[ ,4] = c(\"E13\",\"E13\",\"E13\",\"P0\",\"P0\",\"P0\", \"E13\", \"E13\", \"E13\", \"P0\", \"P0\", \"P0\")\n",
    "colnames(ph@data)[4]=\"DevStage\"\n",
    "ph@data"
   ]
  },
  {
   "cell_type": "code",
   "execution_count": null,
   "metadata": {},
   "outputs": [],
   "source": [
    "## Cellule de Code n°30 ##\n",
    "\n",
    "# On forme les groupes\n",
    "groupsS = ph@data$GonadSex \n",
    "groupsD = ph@data$DevStage\n",
    "\n",
    "# On définit les 2 facteurs à prendre en compte, en indiquant leurs niveaux\n",
    "fs = factor(groupsS,levels=c(\"Testis\",\"Ovary\"))\n",
    "fd = factor(groupsD,levels=c(\"E13\",\"P0\"))\n",
    "\n",
    "# on définit la ou les comparaisons voulues et on lance l'analyse des données selon ce design\n",
    "factored.design = model.matrix(~fs*fd)\n",
    "data.fit4 = lmFit(data.gcrma,factored.design)\n",
    "\n",
    "# lmFit() will fit a linear model to the data. It will create a data frame called data.fit4 containing 4 columns:\n",
    "#   the first column contains the intercept of the linear model: it's the mean log expression in the testis samples\n",
    "#   the second column compares Ovary samples with Testis\n",
    "#   the third column compares P0 with E13\n",
    "#   the fourth column contains the interaction showing you if the genes that respond to the gonadal sex are influenced \n",
    "#   by the developmental stage\n",
    "\n",
    "# Affichage des résultats :\n",
    "#data.fit4[1:10,]\n",
    "\n",
    "\n",
    "# Performing the two-factor ANOVA is now done using eBayes(). \n",
    "data.fit.eb4 = eBayes(data.fit4)\n",
    "\n",
    "# Affichage des p-value pour chacun des facteurs et leur interaction, pour les 10 premiers gènes\n",
    "data.fit.eb4$p.value[1:10,2:4]"
   ]
  },
  {
   "cell_type": "markdown",
   "metadata": {},
   "source": [
    "### Correction des tests multiples avec une comparaison multiple (i.e une 2-way ANOVA)"
   ]
  },
  {
   "cell_type": "markdown",
   "metadata": {},
   "source": [
    "La correction des tests multiples s'effectue ici avec une autre fonction : decideTests()  \n",
    "On peut là aussi spécifier des seuils pour ne garder que les gènes à considérer comme DE.  \n",
    "La fonction retourne alors des valeurs 0, 1, -1 selon que le gène remplit les critères de sélection."
   ]
  },
  {
   "cell_type": "code",
   "execution_count": null,
   "metadata": {},
   "outputs": [],
   "source": [
    "## Cellule de Code n°31 ##\n",
    "\n",
    "# The decideTests() method will perform multiple testing adjustment on these p-values. \n",
    "# Additionally, it will evaluate for each gene whether the results data.fit.eb fulfill \n",
    "# the criteria for differential expression that you specify.\n",
    "# For each gene and each comparison, it will generate the following output:\n",
    "#   -1: significantly downregulated\n",
    "#    0: no significant evidence of differential expression\n",
    "#    1: significantly upregulated\n",
    "# The p.value argument specifies the FDR and the lfc argument specifies the minimal fold change that is required to be considered DE.\n",
    "\n",
    "DEresults = decideTests(data.fit.eb4,method='global',adjust.method=\"BH\",p.value=0.05,lfc=1)\n",
    "DEresults[1:10,2:4]\n",
    "\n",
    "DEresultsStrict = decideTests(data.fit.eb4,method='global',adjust.method=\"BH\",p.value=0.01,lfc=2)\n",
    "DEresultsStrict[1:10,2:4]"
   ]
  },
  {
   "cell_type": "markdown",
   "metadata": {},
   "source": [
    "### 5.5- Diagramme de Venn\n",
    "\n",
    "Pour terminer, on peut afficher des diagrammes de Venn qui montrent comment se répartissent les gènes DE selon les facteurs considérés."
   ]
  },
  {
   "cell_type": "code",
   "execution_count": null,
   "metadata": {},
   "outputs": [],
   "source": [
    "## Cellule de Code n°32 ##\n",
    "\n",
    "# On choisit une taille de graph plus adaptée (format carré pour ne pas déformer les cercles du diagramme)\n",
    "options(repr.plot.width= 12, repr.plot.height= 12)\n",
    "\n",
    "# Diagramme de Venn des gènes DE\n",
    "# \"both\" for all differentially expressed genes, \"up\" for up-regulated genes only or \"down\" for down-regulated genes only.\n",
    "\n",
    "vennDiagram(DEresults[,2:4], include=\"down\", names= c(\"Gonad Sex\", \"Dev Stage\", \"Interaction\"), counts.col=c(\"black\"), circle.col = c(\"red\", \"blue\", \"green3\"))\n",
    "vennDiagram(DEresultsStrict[,2:4], include=\"up\", names= c(\"Gonad Sex\", \"Dev Stage\", \"Interaction\"), counts.col=\"red\", circle.col = c(\"red4\", \"blue4\", \"green4\"))\n",
    "\n"
   ]
  },
  {
   "cell_type": "markdown",
   "metadata": {},
   "source": [
    "><mark>**Question 14 :**<mark>   \n",
    "> <mark>   Reprenez et modifiez le code des cellules précedentes de façon à produire un diagramme de Venn :  <mark>  \n",
    "> <mark>  - sur les gènes avec une adj pvalue < 0.01  <mark>  \n",
    "> <mark>  - et avec un log fold change supérieur à 1.5      <mark>                                     \n",
    "> <mark>  - les gènes up et down-régulés   <mark>  \n",
    "> <mark>  - avec l'écriture des comptages en bleu  <mark> \n",
    "  "
   ]
  },
  {
   "cell_type": "code",
   "execution_count": null,
   "metadata": {},
   "outputs": [],
   "source": [
    "# rentrez ici le code modifié pour répondre à la question 14\n"
   ]
  },
  {
   "cell_type": "markdown",
   "metadata": {},
   "source": [
    "><mark>**Question 15 :**<mark>   \n",
    "> Combien de gènes sont DE à la fois selon le sexe et le stade de développement ?  \n",
    "> Combien de gènes ont leur expression modifiée selon le stade de développement, mais pas différemment selon le sexe ?  \n",
    "> Combien de gènes ont leur expression modifiée par l'interaction entre les 2 facteurs ?  "
   ]
  },
  {
   "cell_type": "markdown",
   "metadata": {},
   "source": [
    "  \n",
    "---\n",
    "\n",
    "<div class=\"alert alert-block alert-success\"> <b> Bravo ! </b> <br> \n",
    "Pensez à sauver votre notebook, et à en garder une copie en format <b>html</b> <br>\n",
    "- Ouvrez \"File\" dans le Menu <br>\n",
    "- Selectionnez \"Export Notebook As\" <br>\n",
    "- Exportez le notebook en HTML <br>\n",
    "- Vous pouvez maintenant l'ouvrir dans votre browser  sans même être connecté à adénine ! </div>"
   ]
  },
  {
   "cell_type": "code",
   "execution_count": null,
   "metadata": {},
   "outputs": [],
   "source": []
  }
 ],
 "metadata": {
  "kernelspec": {
   "display_name": "R",
   "language": "R",
   "name": "ir"
  },
  "language_info": {
   "codemirror_mode": "r",
   "file_extension": ".r",
   "mimetype": "text/x-r-source",
   "name": "R",
   "pygments_lexer": "r",
   "version": "4.0.5"
  }
 },
 "nbformat": 4,
 "nbformat_minor": 4
}
